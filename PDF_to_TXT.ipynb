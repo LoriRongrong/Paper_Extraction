{
 "cells": [
  {
   "cell_type": "code",
   "execution_count": 1,
   "metadata": {},
   "outputs": [],
   "source": [
    "import pdfx\n",
    "from crossref.restful import Works\n",
    "import pandas as pd\n",
    "from pathlib import Path"
   ]
  },
  {
   "cell_type": "code",
   "execution_count": 11,
   "metadata": {},
   "outputs": [],
   "source": [
    "# collect the name of pdf\n",
    "\n",
    "articles_2020 = []\n",
    "pathlist = Path('./journals_2018').glob('**/*.pdf')\n",
    "for path in pathlist:\n",
    "     # because path is object not string\n",
    "    path_in_str = str(path)\n",
    "    articles_2020.append(path_in_str)\n",
    "     # print(path_in_str)"
   ]
  },
  {
   "cell_type": "code",
   "execution_count": 12,
   "metadata": {},
   "outputs": [],
   "source": [
    "# collect the name of txt\n",
    "# txt_2020 = []\n",
    "# pathlist = Path('./journals_2019').glob('**/*.txt')\n",
    "# for path in pathlist:\n",
    "#      # because path is object not string\n",
    "#     path_in_str = str(path)\n",
    "#     txt_2020.append(path_in_str)"
   ]
  },
  {
   "cell_type": "code",
   "execution_count": 13,
   "metadata": {
    "scrolled": true
   },
   "outputs": [],
   "source": [
    "articles_2020.sort()\n",
    "# txt_2020.sort()"
   ]
  },
  {
   "cell_type": "code",
   "execution_count": 14,
   "metadata": {},
   "outputs": [],
   "source": [
    "# articles_2020, txt_2020 = zip(*sorted(zip(articles_2020, txt_2020)))"
   ]
  },
  {
   "cell_type": "code",
   "execution_count": 15,
   "metadata": {},
   "outputs": [],
   "source": [
    "# articles_2020"
   ]
  },
  {
   "cell_type": "code",
   "execution_count": 16,
   "metadata": {
    "scrolled": true
   },
   "outputs": [],
   "source": [
    "# get DOI\n",
    "# get txt\n",
    "txt_2020 = []\n",
    "DOI_2020 = []\n",
    "for i in range(len(articles_2020)):\n",
    "    pdf = pdfx.PDFx(articles_2020[i])\n",
    "    txt_2020.append(pdf.get_text())\n",
    "    metadata = pdf.get_metadata()\n",
    "    DOI_2020.append(metadata['WPS-ARTICLEDOI'])"
   ]
  },
  {
   "cell_type": "code",
   "execution_count": 17,
   "metadata": {},
   "outputs": [
    {
     "data": {
      "text/plain": [
       "154"
      ]
     },
     "execution_count": 17,
     "metadata": {},
     "output_type": "execute_result"
    }
   ],
   "source": [
    "i"
   ]
  },
  {
   "cell_type": "code",
   "execution_count": 18,
   "metadata": {
    "scrolled": true
   },
   "outputs": [],
   "source": [
    "# pdf = pdfx.PDFx(\"./journals_2019/Afonso_et_al-2019-Cognitive_Science.pdf\")\n",
    "# metadata = pdf.get_metadata()\n",
    "# pdf.get_text()\n",
    "# # metadata"
   ]
  },
  {
   "cell_type": "code",
   "execution_count": 19,
   "metadata": {},
   "outputs": [],
   "source": [
    "# from refextract import extract_references_from_file\n",
    "# import os\n",
    "# references = extract_references_from_file(\"journals_2019/Afonso_et_al-2019-Cognitive_Science.pdf\")"
   ]
  },
  {
   "cell_type": "code",
   "execution_count": 20,
   "metadata": {},
   "outputs": [],
   "source": [
    "# references"
   ]
  },
  {
   "cell_type": "code",
   "execution_count": 21,
   "metadata": {},
   "outputs": [],
   "source": [
    "# DOI_2020"
   ]
  },
  {
   "cell_type": "code",
   "execution_count": 22,
   "metadata": {},
   "outputs": [],
   "source": [
    "# articles_2020 = articles_2020[1:]\n",
    "# txt_2020 = txt_2020[1:]\n",
    "# DOI_2020 = DOI_2020[1:]"
   ]
  },
  {
   "cell_type": "code",
   "execution_count": 23,
   "metadata": {},
   "outputs": [
    {
     "data": {
      "text/plain": [
       "(155, 155, 155)"
      ]
     },
     "execution_count": 23,
     "metadata": {},
     "output_type": "execute_result"
    }
   ],
   "source": [
    "len(txt_2020),len(DOI_2020),len(articles_2020)"
   ]
  },
  {
   "cell_type": "code",
   "execution_count": 24,
   "metadata": {},
   "outputs": [],
   "source": [
    "works = Works()\n",
    "title_list = []\n",
    "author_jumbo = []\n",
    "date_list = []\n",
    "# text_list = []\n",
    "# from DOI to date/ title/ authors/ \n",
    "for i in range(len(DOI_2020)):\n",
    "    seq = ['date','title','authors','text','doi']\n",
    "    meta = works.doi(DOI_2020[i])\n",
    "    date = '/'.join(str(x) for x in meta['indexed']['date-parts'][0])\n",
    "    date_list.append(date)\n",
    "    authors = meta['author']\n",
    "    author_list = []\n",
    "    for j in range(len(authors)):\n",
    "        author_list.append(authors[j]['given']+' '+authors[j]['family'])\n",
    "    author = '/'.join(author_list)\n",
    "    author_jumbo.append(author)\n",
    "    title = meta['title'][0]\n",
    "    title_list.append(title)\n",
    "#     with open(txt_2020[i],'r') as file:\n",
    "#         text = file.read()\n",
    "#     text_list.append(text)\n",
    "    "
   ]
  },
  {
   "cell_type": "code",
   "execution_count": 25,
   "metadata": {},
   "outputs": [],
   "source": [
    "data = {'date':date_list,'title':title_list,'authors':author_jumbo,'text':txt_2020, 'doi':DOI_2020}"
   ]
  },
  {
   "cell_type": "code",
   "execution_count": 26,
   "metadata": {},
   "outputs": [],
   "source": [
    "data = pd.DataFrame.from_dict(data)\n",
    "data.to_csv('./journals_2018/2018CogsSci.csv',index=False)\n"
   ]
  },
  {
   "cell_type": "code",
   "execution_count": null,
   "metadata": {},
   "outputs": [],
   "source": [
    "# data"
   ]
  },
  {
   "cell_type": "code",
   "execution_count": null,
   "metadata": {},
   "outputs": [],
   "source": [
    "meta"
   ]
  },
  {
   "cell_type": "code",
   "execution_count": null,
   "metadata": {},
   "outputs": [],
   "source": []
  }
 ],
 "metadata": {
  "kernelspec": {
   "display_name": "Python 3",
   "language": "python",
   "name": "python3"
  },
  "language_info": {
   "codemirror_mode": {
    "name": "ipython",
    "version": 3
   },
   "file_extension": ".py",
   "mimetype": "text/x-python",
   "name": "python",
   "nbconvert_exporter": "python",
   "pygments_lexer": "ipython3",
   "version": "3.7.4"
  }
 },
 "nbformat": 4,
 "nbformat_minor": 2
}
